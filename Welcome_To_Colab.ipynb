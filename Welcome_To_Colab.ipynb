{
  "cells": [
    {
      "cell_type": "markdown",
      "source": [
        "**Step 1: Loading the Employee Dataset**"
      ],
      "metadata": {
        "id": "ygNX1gRPU6my"
      }
    },
    {
      "cell_type": "code",
      "source": [
        "from google.colab import drive\n",
        "drive.mount(\"/content/drive\")\n"
      ],
      "metadata": {
        "colab": {
          "base_uri": "https://localhost:8080/"
        },
        "id": "x1d_15AeMJjd",
        "outputId": "3c838097-13ed-4eef-b8aa-cf278a336983"
      },
      "execution_count": 1,
      "outputs": [
        {
          "output_type": "stream",
          "name": "stdout",
          "text": [
            "Mounted at /content/drive\n"
          ]
        }
      ]
    },
    {
      "cell_type": "code",
      "source": [
        "import pandas as pd"
      ],
      "metadata": {
        "id": "tZ5U1eWxO45F"
      },
      "execution_count": 2,
      "outputs": []
    },
    {
      "cell_type": "code",
      "source": [
        "data = pd.read_csv('/Employee Sample Data 1.csv', encoding='ISO-8859-1')\n"
      ],
      "metadata": {
        "id": "OXszAzAbO7Xp"
      },
      "execution_count": 9,
      "outputs": []
    },
    {
      "cell_type": "code",
      "source": [
        "data.head()\n"
      ],
      "metadata": {
        "colab": {
          "base_uri": "https://localhost:8080/",
          "height": 310
        },
        "id": "2wedEFZMP1Ec",
        "outputId": "8af6fc76-ee12-4489-9521-15aac06292d8"
      },
      "execution_count": 10,
      "outputs": [
        {
          "output_type": "execute_result",
          "data": {
            "text/plain": [
              "  Employee ID         Full Name              Job Title   Department  \\\n",
              "0      E02002            Kai Le      Controls Engineer  Engineering   \n",
              "1      E02003      Robert Patel                Analyst        Sales   \n",
              "2      E02004        Cameron Lo  Network Administrator           IT   \n",
              "3      E02005   Harper Castillo   IT Systems Architect           IT   \n",
              "4      E02006  Harper Dominguez               Director  Engineering   \n",
              "\n",
              "            Business Unit  Gender Ethnicity   Age   Hire Date Annual Salary  \\\n",
              "0           Manufacturing    Male     Asian  47.0    2/5/2022      $92,368    \n",
              "1               Corporate    Male     Asian  58.0  10/23/2013      $45,703    \n",
              "2  Research & Development    Male     Asian  34.0   3/24/2019      $83,576    \n",
              "3               Corporate  Female    Latino  39.0    4/7/2018      $98,062    \n",
              "4               Corporate  Female    Latino  42.0   6/18/2005     $175,391    \n",
              "\n",
              "  Bonus %        Country      City Exit Date  \n",
              "0      0%  United States  Columbus       NaN  \n",
              "1      0%  United States   Chicago       NaN  \n",
              "2      0%          China  Shanghai       NaN  \n",
              "3      0%  United States   Seattle       NaN  \n",
              "4     24%  United States    Austin       NaN  "
            ],
            "text/html": [
              "\n",
              "  <div id=\"df-f170acfe-fbf0-43b3-bd1a-1729eb633c96\" class=\"colab-df-container\">\n",
              "    <div>\n",
              "<style scoped>\n",
              "    .dataframe tbody tr th:only-of-type {\n",
              "        vertical-align: middle;\n",
              "    }\n",
              "\n",
              "    .dataframe tbody tr th {\n",
              "        vertical-align: top;\n",
              "    }\n",
              "\n",
              "    .dataframe thead th {\n",
              "        text-align: right;\n",
              "    }\n",
              "</style>\n",
              "<table border=\"1\" class=\"dataframe\">\n",
              "  <thead>\n",
              "    <tr style=\"text-align: right;\">\n",
              "      <th></th>\n",
              "      <th>Employee ID</th>\n",
              "      <th>Full Name</th>\n",
              "      <th>Job Title</th>\n",
              "      <th>Department</th>\n",
              "      <th>Business Unit</th>\n",
              "      <th>Gender</th>\n",
              "      <th>Ethnicity</th>\n",
              "      <th>Age</th>\n",
              "      <th>Hire Date</th>\n",
              "      <th>Annual Salary</th>\n",
              "      <th>Bonus %</th>\n",
              "      <th>Country</th>\n",
              "      <th>City</th>\n",
              "      <th>Exit Date</th>\n",
              "    </tr>\n",
              "  </thead>\n",
              "  <tbody>\n",
              "    <tr>\n",
              "      <th>0</th>\n",
              "      <td>E02002</td>\n",
              "      <td>Kai Le</td>\n",
              "      <td>Controls Engineer</td>\n",
              "      <td>Engineering</td>\n",
              "      <td>Manufacturing</td>\n",
              "      <td>Male</td>\n",
              "      <td>Asian</td>\n",
              "      <td>47.0</td>\n",
              "      <td>2/5/2022</td>\n",
              "      <td>$92,368</td>\n",
              "      <td>0%</td>\n",
              "      <td>United States</td>\n",
              "      <td>Columbus</td>\n",
              "      <td>NaN</td>\n",
              "    </tr>\n",
              "    <tr>\n",
              "      <th>1</th>\n",
              "      <td>E02003</td>\n",
              "      <td>Robert Patel</td>\n",
              "      <td>Analyst</td>\n",
              "      <td>Sales</td>\n",
              "      <td>Corporate</td>\n",
              "      <td>Male</td>\n",
              "      <td>Asian</td>\n",
              "      <td>58.0</td>\n",
              "      <td>10/23/2013</td>\n",
              "      <td>$45,703</td>\n",
              "      <td>0%</td>\n",
              "      <td>United States</td>\n",
              "      <td>Chicago</td>\n",
              "      <td>NaN</td>\n",
              "    </tr>\n",
              "    <tr>\n",
              "      <th>2</th>\n",
              "      <td>E02004</td>\n",
              "      <td>Cameron Lo</td>\n",
              "      <td>Network Administrator</td>\n",
              "      <td>IT</td>\n",
              "      <td>Research &amp; Development</td>\n",
              "      <td>Male</td>\n",
              "      <td>Asian</td>\n",
              "      <td>34.0</td>\n",
              "      <td>3/24/2019</td>\n",
              "      <td>$83,576</td>\n",
              "      <td>0%</td>\n",
              "      <td>China</td>\n",
              "      <td>Shanghai</td>\n",
              "      <td>NaN</td>\n",
              "    </tr>\n",
              "    <tr>\n",
              "      <th>3</th>\n",
              "      <td>E02005</td>\n",
              "      <td>Harper Castillo</td>\n",
              "      <td>IT Systems Architect</td>\n",
              "      <td>IT</td>\n",
              "      <td>Corporate</td>\n",
              "      <td>Female</td>\n",
              "      <td>Latino</td>\n",
              "      <td>39.0</td>\n",
              "      <td>4/7/2018</td>\n",
              "      <td>$98,062</td>\n",
              "      <td>0%</td>\n",
              "      <td>United States</td>\n",
              "      <td>Seattle</td>\n",
              "      <td>NaN</td>\n",
              "    </tr>\n",
              "    <tr>\n",
              "      <th>4</th>\n",
              "      <td>E02006</td>\n",
              "      <td>Harper Dominguez</td>\n",
              "      <td>Director</td>\n",
              "      <td>Engineering</td>\n",
              "      <td>Corporate</td>\n",
              "      <td>Female</td>\n",
              "      <td>Latino</td>\n",
              "      <td>42.0</td>\n",
              "      <td>6/18/2005</td>\n",
              "      <td>$175,391</td>\n",
              "      <td>24%</td>\n",
              "      <td>United States</td>\n",
              "      <td>Austin</td>\n",
              "      <td>NaN</td>\n",
              "    </tr>\n",
              "  </tbody>\n",
              "</table>\n",
              "</div>\n",
              "    <div class=\"colab-df-buttons\">\n",
              "\n",
              "  <div class=\"colab-df-container\">\n",
              "    <button class=\"colab-df-convert\" onclick=\"convertToInteractive('df-f170acfe-fbf0-43b3-bd1a-1729eb633c96')\"\n",
              "            title=\"Convert this dataframe to an interactive table.\"\n",
              "            style=\"display:none;\">\n",
              "\n",
              "  <svg xmlns=\"http://www.w3.org/2000/svg\" height=\"24px\" viewBox=\"0 -960 960 960\">\n",
              "    <path d=\"M120-120v-720h720v720H120Zm60-500h600v-160H180v160Zm220 220h160v-160H400v160Zm0 220h160v-160H400v160ZM180-400h160v-160H180v160Zm440 0h160v-160H620v160ZM180-180h160v-160H180v160Zm440 0h160v-160H620v160Z\"/>\n",
              "  </svg>\n",
              "    </button>\n",
              "\n",
              "  <style>\n",
              "    .colab-df-container {\n",
              "      display:flex;\n",
              "      gap: 12px;\n",
              "    }\n",
              "\n",
              "    .colab-df-convert {\n",
              "      background-color: #E8F0FE;\n",
              "      border: none;\n",
              "      border-radius: 50%;\n",
              "      cursor: pointer;\n",
              "      display: none;\n",
              "      fill: #1967D2;\n",
              "      height: 32px;\n",
              "      padding: 0 0 0 0;\n",
              "      width: 32px;\n",
              "    }\n",
              "\n",
              "    .colab-df-convert:hover {\n",
              "      background-color: #E2EBFA;\n",
              "      box-shadow: 0px 1px 2px rgba(60, 64, 67, 0.3), 0px 1px 3px 1px rgba(60, 64, 67, 0.15);\n",
              "      fill: #174EA6;\n",
              "    }\n",
              "\n",
              "    .colab-df-buttons div {\n",
              "      margin-bottom: 4px;\n",
              "    }\n",
              "\n",
              "    [theme=dark] .colab-df-convert {\n",
              "      background-color: #3B4455;\n",
              "      fill: #D2E3FC;\n",
              "    }\n",
              "\n",
              "    [theme=dark] .colab-df-convert:hover {\n",
              "      background-color: #434B5C;\n",
              "      box-shadow: 0px 1px 3px 1px rgba(0, 0, 0, 0.15);\n",
              "      filter: drop-shadow(0px 1px 2px rgba(0, 0, 0, 0.3));\n",
              "      fill: #FFFFFF;\n",
              "    }\n",
              "  </style>\n",
              "\n",
              "    <script>\n",
              "      const buttonEl =\n",
              "        document.querySelector('#df-f170acfe-fbf0-43b3-bd1a-1729eb633c96 button.colab-df-convert');\n",
              "      buttonEl.style.display =\n",
              "        google.colab.kernel.accessAllowed ? 'block' : 'none';\n",
              "\n",
              "      async function convertToInteractive(key) {\n",
              "        const element = document.querySelector('#df-f170acfe-fbf0-43b3-bd1a-1729eb633c96');\n",
              "        const dataTable =\n",
              "          await google.colab.kernel.invokeFunction('convertToInteractive',\n",
              "                                                    [key], {});\n",
              "        if (!dataTable) return;\n",
              "\n",
              "        const docLinkHtml = 'Like what you see? Visit the ' +\n",
              "          '<a target=\"_blank\" href=https://colab.research.google.com/notebooks/data_table.ipynb>data table notebook</a>'\n",
              "          + ' to learn more about interactive tables.';\n",
              "        element.innerHTML = '';\n",
              "        dataTable['output_type'] = 'display_data';\n",
              "        await google.colab.output.renderOutput(dataTable, element);\n",
              "        const docLink = document.createElement('div');\n",
              "        docLink.innerHTML = docLinkHtml;\n",
              "        element.appendChild(docLink);\n",
              "      }\n",
              "    </script>\n",
              "  </div>\n",
              "\n",
              "\n",
              "<div id=\"df-b97cee2a-2a71-477e-bccd-dee869d2b056\">\n",
              "  <button class=\"colab-df-quickchart\" onclick=\"quickchart('df-b97cee2a-2a71-477e-bccd-dee869d2b056')\"\n",
              "            title=\"Suggest charts\"\n",
              "            style=\"display:none;\">\n",
              "\n",
              "<svg xmlns=\"http://www.w3.org/2000/svg\" height=\"24px\"viewBox=\"0 0 24 24\"\n",
              "     width=\"24px\">\n",
              "    <g>\n",
              "        <path d=\"M19 3H5c-1.1 0-2 .9-2 2v14c0 1.1.9 2 2 2h14c1.1 0 2-.9 2-2V5c0-1.1-.9-2-2-2zM9 17H7v-7h2v7zm4 0h-2V7h2v10zm4 0h-2v-4h2v4z\"/>\n",
              "    </g>\n",
              "</svg>\n",
              "  </button>\n",
              "\n",
              "<style>\n",
              "  .colab-df-quickchart {\n",
              "      --bg-color: #E8F0FE;\n",
              "      --fill-color: #1967D2;\n",
              "      --hover-bg-color: #E2EBFA;\n",
              "      --hover-fill-color: #174EA6;\n",
              "      --disabled-fill-color: #AAA;\n",
              "      --disabled-bg-color: #DDD;\n",
              "  }\n",
              "\n",
              "  [theme=dark] .colab-df-quickchart {\n",
              "      --bg-color: #3B4455;\n",
              "      --fill-color: #D2E3FC;\n",
              "      --hover-bg-color: #434B5C;\n",
              "      --hover-fill-color: #FFFFFF;\n",
              "      --disabled-bg-color: #3B4455;\n",
              "      --disabled-fill-color: #666;\n",
              "  }\n",
              "\n",
              "  .colab-df-quickchart {\n",
              "    background-color: var(--bg-color);\n",
              "    border: none;\n",
              "    border-radius: 50%;\n",
              "    cursor: pointer;\n",
              "    display: none;\n",
              "    fill: var(--fill-color);\n",
              "    height: 32px;\n",
              "    padding: 0;\n",
              "    width: 32px;\n",
              "  }\n",
              "\n",
              "  .colab-df-quickchart:hover {\n",
              "    background-color: var(--hover-bg-color);\n",
              "    box-shadow: 0 1px 2px rgba(60, 64, 67, 0.3), 0 1px 3px 1px rgba(60, 64, 67, 0.15);\n",
              "    fill: var(--button-hover-fill-color);\n",
              "  }\n",
              "\n",
              "  .colab-df-quickchart-complete:disabled,\n",
              "  .colab-df-quickchart-complete:disabled:hover {\n",
              "    background-color: var(--disabled-bg-color);\n",
              "    fill: var(--disabled-fill-color);\n",
              "    box-shadow: none;\n",
              "  }\n",
              "\n",
              "  .colab-df-spinner {\n",
              "    border: 2px solid var(--fill-color);\n",
              "    border-color: transparent;\n",
              "    border-bottom-color: var(--fill-color);\n",
              "    animation:\n",
              "      spin 1s steps(1) infinite;\n",
              "  }\n",
              "\n",
              "  @keyframes spin {\n",
              "    0% {\n",
              "      border-color: transparent;\n",
              "      border-bottom-color: var(--fill-color);\n",
              "      border-left-color: var(--fill-color);\n",
              "    }\n",
              "    20% {\n",
              "      border-color: transparent;\n",
              "      border-left-color: var(--fill-color);\n",
              "      border-top-color: var(--fill-color);\n",
              "    }\n",
              "    30% {\n",
              "      border-color: transparent;\n",
              "      border-left-color: var(--fill-color);\n",
              "      border-top-color: var(--fill-color);\n",
              "      border-right-color: var(--fill-color);\n",
              "    }\n",
              "    40% {\n",
              "      border-color: transparent;\n",
              "      border-right-color: var(--fill-color);\n",
              "      border-top-color: var(--fill-color);\n",
              "    }\n",
              "    60% {\n",
              "      border-color: transparent;\n",
              "      border-right-color: var(--fill-color);\n",
              "    }\n",
              "    80% {\n",
              "      border-color: transparent;\n",
              "      border-right-color: var(--fill-color);\n",
              "      border-bottom-color: var(--fill-color);\n",
              "    }\n",
              "    90% {\n",
              "      border-color: transparent;\n",
              "      border-bottom-color: var(--fill-color);\n",
              "    }\n",
              "  }\n",
              "</style>\n",
              "\n",
              "  <script>\n",
              "    async function quickchart(key) {\n",
              "      const quickchartButtonEl =\n",
              "        document.querySelector('#' + key + ' button');\n",
              "      quickchartButtonEl.disabled = true;  // To prevent multiple clicks.\n",
              "      quickchartButtonEl.classList.add('colab-df-spinner');\n",
              "      try {\n",
              "        const charts = await google.colab.kernel.invokeFunction(\n",
              "            'suggestCharts', [key], {});\n",
              "      } catch (error) {\n",
              "        console.error('Error during call to suggestCharts:', error);\n",
              "      }\n",
              "      quickchartButtonEl.classList.remove('colab-df-spinner');\n",
              "      quickchartButtonEl.classList.add('colab-df-quickchart-complete');\n",
              "    }\n",
              "    (() => {\n",
              "      let quickchartButtonEl =\n",
              "        document.querySelector('#df-b97cee2a-2a71-477e-bccd-dee869d2b056 button');\n",
              "      quickchartButtonEl.style.display =\n",
              "        google.colab.kernel.accessAllowed ? 'block' : 'none';\n",
              "    })();\n",
              "  </script>\n",
              "</div>\n",
              "\n",
              "    </div>\n",
              "  </div>\n"
            ],
            "application/vnd.google.colaboratory.intrinsic+json": {
              "type": "dataframe",
              "variable_name": "data",
              "summary": "{\n  \"name\": \"data\",\n  \"rows\": 1262,\n  \"fields\": [\n    {\n      \"column\": \"Employee ID\",\n      \"properties\": {\n        \"dtype\": \"string\",\n        \"num_unique_values\": 985,\n        \"samples\": [\n          \"E02615\",\n          \"E02453\",\n          \"E02733\"\n        ],\n        \"semantic_type\": \"\",\n        \"description\": \"\"\n      }\n    },\n    {\n      \"column\": \"Full Name\",\n      \"properties\": {\n        \"dtype\": \"string\",\n        \"num_unique_values\": 966,\n        \"samples\": [\n          \"Landon Reyes\",\n          \"Ellie Ortega\",\n          \"Allison Wang\"\n        ],\n        \"semantic_type\": \"\",\n        \"description\": \"\"\n      }\n    },\n    {\n      \"column\": \"Job Title\",\n      \"properties\": {\n        \"dtype\": \"category\",\n        \"num_unique_values\": 33,\n        \"samples\": [\n          \"Quality Engineer\",\n          \"Business Partner\",\n          \"Field Engineer\"\n        ],\n        \"semantic_type\": \"\",\n        \"description\": \"\"\n      }\n    },\n    {\n      \"column\": \"Department\",\n      \"properties\": {\n        \"dtype\": \"category\",\n        \"num_unique_values\": 7,\n        \"samples\": [\n          \"Engineering\",\n          \"Sales\",\n          \"Marketing\"\n        ],\n        \"semantic_type\": \"\",\n        \"description\": \"\"\n      }\n    },\n    {\n      \"column\": \"Business Unit\",\n      \"properties\": {\n        \"dtype\": \"category\",\n        \"num_unique_values\": 4,\n        \"samples\": [\n          \"Corporate\",\n          \"Specialty Products\",\n          \"Manufacturing\"\n        ],\n        \"semantic_type\": \"\",\n        \"description\": \"\"\n      }\n    },\n    {\n      \"column\": \"Gender\",\n      \"properties\": {\n        \"dtype\": \"category\",\n        \"num_unique_values\": 2,\n        \"samples\": [\n          \"Female\",\n          \"Male\"\n        ],\n        \"semantic_type\": \"\",\n        \"description\": \"\"\n      }\n    },\n    {\n      \"column\": \"Ethnicity\",\n      \"properties\": {\n        \"dtype\": \"category\",\n        \"num_unique_values\": 4,\n        \"samples\": [\n          \"Latino\",\n          \"Black\"\n        ],\n        \"semantic_type\": \"\",\n        \"description\": \"\"\n      }\n    },\n    {\n      \"column\": \"Age\",\n      \"properties\": {\n        \"dtype\": \"number\",\n        \"std\": 11.166656670837295,\n        \"min\": 25.0,\n        \"max\": 65.0,\n        \"num_unique_values\": 41,\n        \"samples\": [\n          54.0,\n          29.0\n        ],\n        \"semantic_type\": \"\",\n        \"description\": \"\"\n      }\n    },\n    {\n      \"column\": \"Hire Date\",\n      \"properties\": {\n        \"dtype\": \"object\",\n        \"num_unique_values\": 910,\n        \"samples\": [\n          \"3/14/2019\",\n          \"4/16/2004\"\n        ],\n        \"semantic_type\": \"\",\n        \"description\": \"\"\n      }\n    },\n    {\n      \"column\": \"Annual Salary\",\n      \"properties\": {\n        \"dtype\": \"string\",\n        \"num_unique_values\": 963,\n        \"samples\": [\n          \"$106,456 \",\n          \"$186,400 \"\n        ],\n        \"semantic_type\": \"\",\n        \"description\": \"\"\n      }\n    },\n    {\n      \"column\": \"Bonus %\",\n      \"properties\": {\n        \"dtype\": \"category\",\n        \"num_unique_values\": 37,\n        \"samples\": [\n          \"27%\",\n          \"9%\"\n        ],\n        \"semantic_type\": \"\",\n        \"description\": \"\"\n      }\n    },\n    {\n      \"column\": \"Country\",\n      \"properties\": {\n        \"dtype\": \"category\",\n        \"num_unique_values\": 3,\n        \"samples\": [\n          \"United States\",\n          \"China\"\n        ],\n        \"semantic_type\": \"\",\n        \"description\": \"\"\n      }\n    },\n    {\n      \"column\": \"City\",\n      \"properties\": {\n        \"dtype\": \"category\",\n        \"num_unique_values\": 13,\n        \"samples\": [\n          \"Sao Paulo\",\n          \"Beijing\"\n        ],\n        \"semantic_type\": \"\",\n        \"description\": \"\"\n      }\n    },\n    {\n      \"column\": \"Exit Date\",\n      \"properties\": {\n        \"dtype\": \"date\",\n        \"min\": \"1996-05-16 00:00:00\",\n        \"max\": \"2023-02-12 00:00:00\",\n        \"num_unique_values\": 101,\n        \"samples\": [\n          \"1/25/2023\",\n          \"1/10/2023\"\n        ],\n        \"semantic_type\": \"\",\n        \"description\": \"\"\n      }\n    }\n  ]\n}"
            }
          },
          "metadata": {},
          "execution_count": 10
        }
      ]
    },
    {
      "cell_type": "markdown",
      "source": [
        "**Step 2: Defining Functions**"
      ],
      "metadata": {
        "id": "JUjl2rUlVH4f"
      }
    },
    {
      "cell_type": "markdown",
      "source": [
        "**createCollection(p_collection_name): This function will create a collection (in this case, a DataFrame).**"
      ],
      "metadata": {
        "id": "oFybnXQDUUUC"
      }
    },
    {
      "cell_type": "code",
      "source": [
        "# Creating an empty collection (DataFrame)\n",
        "collections = {}\n",
        "\n",
        "def createCollection(p_collection_name):\n",
        "    global collections\n",
        "    collections[p_collection_name] = pd.DataFrame()\n",
        "    print(f\"Collection '{p_collection_name}' created.\")\n"
      ],
      "metadata": {
        "id": "EIE02aUlRWZ5"
      },
      "execution_count": 20,
      "outputs": []
    },
    {
      "cell_type": "markdown",
      "source": [
        "**indexData(p_collection_name, p_exclude_column): This will add employee data to the collection, excluding the specified column.**"
      ],
      "metadata": {
        "id": "_S0c1BuOVSOZ"
      }
    },
    {
      "cell_type": "code",
      "source": [
        "def indexData(p_collection_name, p_exclude_column):\n",
        "    global collections\n",
        "    if p_exclude_column in data.columns:\n",
        "        indexed_data = data.drop(columns=[p_exclude_column])\n",
        "        collections[p_collection_name] = indexed_data\n",
        "        print(f\"Data indexed in '{p_collection_name}', excluding '{p_exclude_column}'.\")\n",
        "    else:\n",
        "        print(f\"Column '{p_exclude_column}' not found in the dataset.\")\n"
      ],
      "metadata": {
        "id": "2d3a7wJDRXke"
      },
      "execution_count": 14,
      "outputs": []
    },
    {
      "cell_type": "markdown",
      "source": [
        "**searchByColumn(p_collection_name, p_column_name, p_column_value): This will search for rows where a specific column matches a given value.**"
      ],
      "metadata": {
        "id": "R8cj4e0iVXTp"
      }
    },
    {
      "cell_type": "code",
      "source": [
        "def searchByColumn(p_collection_name, p_column_name, p_column_value):\n",
        "    global collections\n",
        "    if p_collection_name in collections:\n",
        "        collection = collections[p_collection_name]\n",
        "        if p_column_name in collection.columns:\n",
        "            result = collection[collection[p_column_name] == p_column_value]\n",
        "            print(f\"Search results for '{p_column_name} = {p_column_value}' in '{p_collection_name}':\")\n",
        "            print(result)\n",
        "        else:\n",
        "            print(f\"Column '{p_column_name}' not found in collection '{p_collection_name}'.\")\n",
        "    else:\n",
        "        print(f\"Collection '{p_collection_name}' not found.\")\n"
      ],
      "metadata": {
        "id": "O89l5x-6Rccy"
      },
      "execution_count": 15,
      "outputs": []
    },
    {
      "cell_type": "markdown",
      "source": [
        "**getEmpCount(p_collection_name): This will return the number of employees (rows) in the specified collection.**"
      ],
      "metadata": {
        "id": "SILL9l75Va92"
      }
    },
    {
      "cell_type": "code",
      "source": [
        "def getEmpCount(p_collection_name):\n",
        "    global collections\n",
        "    if p_collection_name in collections:\n",
        "        collection = collections[p_collection_name]\n",
        "        count = len(collection)\n",
        "        print(f\"Employee count in '{p_collection_name}': {count}\")\n",
        "    else:\n",
        "        print(f\"Collection '{p_collection_name}' not found.\")\n"
      ],
      "metadata": {
        "id": "nPZYf6CORgcb"
      },
      "execution_count": 16,
      "outputs": []
    },
    {
      "cell_type": "markdown",
      "source": [
        "**delEmpById(p_collection_name, p_employee_id): This will delete an employee from the collection by their ID.**"
      ],
      "metadata": {
        "id": "RnaOjxdKVhJO"
      }
    },
    {
      "cell_type": "code",
      "source": [
        "def delEmpById(p_collection_name, p_employee_id):\n",
        "    global collections\n",
        "    if p_collection_name in collections:\n",
        "        collection = collections[p_collection_name]\n",
        "        if 'EmployeeID' in collection.columns:\n",
        "            collections[p_collection_name] = collection[collection['EmployeeID'] != p_employee_id]\n",
        "            print(f\"Employee with ID '{p_employee_id}' deleted from '{p_collection_name}'.\")\n",
        "        else:\n",
        "            print(f\"'EmployeeID' column not found in collection '{p_collection_name}'.\")\n",
        "    else:\n",
        "        print(f\"Collection '{p_collection_name}' not found.\")\n"
      ],
      "metadata": {
        "id": "moRvovSVRoYg"
      },
      "execution_count": 17,
      "outputs": []
    },
    {
      "cell_type": "markdown",
      "source": [
        "**getDepFacet(p_collection_name): This will group employees by the department and return a count.**"
      ],
      "metadata": {
        "id": "fqAj5nEdVoZX"
      }
    },
    {
      "cell_type": "code",
      "source": [
        "def getDepFacet(p_collection_name):\n",
        "    global collections\n",
        "    if p_collection_name in collections:\n",
        "        collection = collections[p_collection_name]\n",
        "        if 'Department' in collection.columns:\n",
        "            facet = collection.groupby('Department').size()\n",
        "            print(f\"Department facet for '{p_collection_name}':\")\n",
        "            print(facet)\n",
        "        else:\n",
        "            print(f\"'Department' column not found in collection '{p_collection_name}'.\")\n",
        "    else:\n",
        "        print(f\"Collection '{p_collection_name}' not found.\")\n"
      ],
      "metadata": {
        "id": "gVIk200sRquC"
      },
      "execution_count": 18,
      "outputs": []
    },
    {
      "cell_type": "markdown",
      "source": [
        "**Step 3: Executing the Functions**"
      ],
      "metadata": {
        "id": "GXLqY2AmV594"
      }
    },
    {
      "cell_type": "markdown",
      "source": [
        "**Var v_nameCollection = ‘Hash_<Your Name>’**"
      ],
      "metadata": {
        "id": "EoAe1pvdd2Rh"
      }
    },
    {
      "cell_type": "code",
      "source": [
        "v_nameCollection = 'Hash_JohnDoe'"
      ],
      "metadata": {
        "id": "ear-UCAGRs5d"
      },
      "execution_count": 23,
      "outputs": []
    },
    {
      "cell_type": "markdown",
      "source": [
        "**Var v_phoneCollection =’Hash_<Your Phone last four digits’**"
      ],
      "metadata": {
        "id": "SgydzJTzeGRq"
      }
    },
    {
      "cell_type": "code",
      "source": [
        "v_phoneCollection = 'Hash_1234'"
      ],
      "metadata": {
        "id": "0R7fjsDDWGsK"
      },
      "execution_count": 22,
      "outputs": []
    },
    {
      "cell_type": "markdown",
      "source": [
        "**createCollection(v_nameCollection)**"
      ],
      "metadata": {
        "id": "2S4JPq34eOm0"
      }
    },
    {
      "cell_type": "code",
      "source": [
        "createCollection(v_nameCollection)"
      ],
      "metadata": {
        "colab": {
          "base_uri": "https://localhost:8080/"
        },
        "id": "aWYe3TebWJvN",
        "outputId": "bc1fa198-2fcf-48ba-ac34-5679fec027dd"
      },
      "execution_count": 24,
      "outputs": [
        {
          "output_type": "stream",
          "name": "stdout",
          "text": [
            "Collection 'Hash_JohnDoe' created.\n"
          ]
        }
      ]
    },
    {
      "cell_type": "markdown",
      "source": [
        "**createCollection(v_phoneCollection)**"
      ],
      "metadata": {
        "id": "knFuBi7SeZMC"
      }
    },
    {
      "cell_type": "code",
      "source": [
        "createCollection(v_phoneCollection)"
      ],
      "metadata": {
        "colab": {
          "base_uri": "https://localhost:8080/"
        },
        "id": "I9X87advWSKj",
        "outputId": "468749f3-58db-46cc-ccd8-3e1c902a8d6c"
      },
      "execution_count": 25,
      "outputs": [
        {
          "output_type": "stream",
          "name": "stdout",
          "text": [
            "Collection 'Hash_1234' created.\n"
          ]
        }
      ]
    },
    {
      "cell_type": "markdown",
      "source": [
        "**getEmpCount(v_nameCollection)**"
      ],
      "metadata": {
        "id": "xFsluIHtejmI"
      }
    },
    {
      "cell_type": "code",
      "source": [
        "getEmpCount(v_nameCollection)"
      ],
      "metadata": {
        "colab": {
          "base_uri": "https://localhost:8080/"
        },
        "id": "k7k6dIl8WUDJ",
        "outputId": "1fb09aa3-924f-413c-bdc0-b42de5d1edc7"
      },
      "execution_count": 26,
      "outputs": [
        {
          "output_type": "stream",
          "name": "stdout",
          "text": [
            "Employee count in 'Hash_JohnDoe': 0\n"
          ]
        }
      ]
    },
    {
      "cell_type": "markdown",
      "source": [
        "**indexData(v_nameCollection,’Department’)**"
      ],
      "metadata": {
        "id": "_jybG3-3etC4"
      }
    },
    {
      "cell_type": "code",
      "source": [
        "indexData(v_nameCollection, 'Department')"
      ],
      "metadata": {
        "colab": {
          "base_uri": "https://localhost:8080/"
        },
        "id": "otTXxFxvWW5m",
        "outputId": "60a98d4d-d15a-4917-f0ca-75059f378a8f"
      },
      "execution_count": 27,
      "outputs": [
        {
          "output_type": "stream",
          "name": "stdout",
          "text": [
            "Data indexed in 'Hash_JohnDoe', excluding 'Department'.\n"
          ]
        }
      ]
    },
    {
      "cell_type": "markdown",
      "source": [
        "**indexData(v_ phoneCollection, ‘Gender’)**"
      ],
      "metadata": {
        "id": "8QLA4xqfezjv"
      }
    },
    {
      "cell_type": "code",
      "source": [
        "indexData(v_phoneCollection, 'Gender')"
      ],
      "metadata": {
        "colab": {
          "base_uri": "https://localhost:8080/"
        },
        "id": "1nYbZQg5WbNe",
        "outputId": "b1f5f5ca-4d95-461e-aae1-715669548b13"
      },
      "execution_count": 28,
      "outputs": [
        {
          "output_type": "stream",
          "name": "stdout",
          "text": [
            "Data indexed in 'Hash_1234', excluding 'Gender'.\n"
          ]
        }
      ]
    },
    {
      "cell_type": "markdown",
      "source": [
        "**delEmpById (v_ nameCollection ,‘E02003’)**"
      ],
      "metadata": {
        "id": "_cSuVbeJe-23"
      }
    },
    {
      "cell_type": "code",
      "source": [
        "delEmpById(v_nameCollection, 'E02003')"
      ],
      "metadata": {
        "colab": {
          "base_uri": "https://localhost:8080/"
        },
        "id": "rhUA9jSEWcu2",
        "outputId": "1fde68a3-3bc3-416d-f09d-7ef2c0cf7b80"
      },
      "execution_count": 29,
      "outputs": [
        {
          "output_type": "stream",
          "name": "stdout",
          "text": [
            "'EmployeeID' column not found in collection 'Hash_JohnDoe'.\n"
          ]
        }
      ]
    },
    {
      "cell_type": "markdown",
      "source": [
        "**getEmpCount(v_nameCollection)**"
      ],
      "metadata": {
        "id": "IH_f8HmMfKXK"
      }
    },
    {
      "cell_type": "code",
      "source": [
        "getEmpCount(v_nameCollection)"
      ],
      "metadata": {
        "colab": {
          "base_uri": "https://localhost:8080/"
        },
        "id": "MEVBi36RWgvf",
        "outputId": "2272839c-3b1b-4e9f-ba16-cf0c9364099b"
      },
      "execution_count": 30,
      "outputs": [
        {
          "output_type": "stream",
          "name": "stdout",
          "text": [
            "Employee count in 'Hash_JohnDoe': 1262\n"
          ]
        }
      ]
    },
    {
      "cell_type": "markdown",
      "source": [
        "**searchByColumn(v_nameCollection,’Department’,’IT’)**"
      ],
      "metadata": {
        "id": "UHCwO9aMfPX6"
      }
    },
    {
      "cell_type": "code",
      "source": [
        "searchByColumn(v_nameCollection, 'Department', 'IT')"
      ],
      "metadata": {
        "colab": {
          "base_uri": "https://localhost:8080/"
        },
        "id": "r8u3PCQxWjsS",
        "outputId": "a9a3e4ea-895e-4cfb-b893-dcb69a3e34de"
      },
      "execution_count": 33,
      "outputs": [
        {
          "output_type": "stream",
          "name": "stdout",
          "text": [
            "Column 'Department' not found in collection 'Hash_JohnDoe'.\n"
          ]
        }
      ]
    },
    {
      "cell_type": "markdown",
      "source": [
        "**searchByColumn(v_nameCollection,’Gender’ ,’Male’)**"
      ],
      "metadata": {
        "id": "hxnmN8hGfaDS"
      }
    },
    {
      "cell_type": "code",
      "source": [
        "searchByColumn(v_nameCollection, 'Gender', 'Male')"
      ],
      "metadata": {
        "colab": {
          "base_uri": "https://localhost:8080/"
        },
        "id": "DFSxBibSWoYR",
        "outputId": "94bab70f-04cb-42f9-a8a5-9f7b1a094be8"
      },
      "execution_count": 34,
      "outputs": [
        {
          "output_type": "stream",
          "name": "stdout",
          "text": [
            "Search results for 'Gender = Male' in 'Hash_JohnDoe':\n",
            "     Employee ID        Full Name              Job Title  \\\n",
            "0         E02002           Kai Le      Controls Engineer   \n",
            "1         E02003     Robert Patel                Analyst   \n",
            "2         E02004       Cameron Lo  Network Administrator   \n",
            "5         E02007          Ezra Vu  Network Administrator   \n",
            "7         E02009      Miles Chang             Analyst II   \n",
            "...          ...              ...                    ...   \n",
            "1251      E02244    Connor Howard        Systems Analyst   \n",
            "1253      E02246     Landon Reyes               Director   \n",
            "1254      E02247          Noah Ma         Vice President   \n",
            "1255      E02248  Lucas Alexander               Director   \n",
            "1256      E02249         Henry Vo      Controls Engineer   \n",
            "\n",
            "               Business Unit Gender  Ethnicity   Age   Hire Date  \\\n",
            "0              Manufacturing   Male      Asian  47.0    2/5/2022   \n",
            "1                  Corporate   Male      Asian  58.0  10/23/2013   \n",
            "2     Research & Development   Male      Asian  34.0   3/24/2019   \n",
            "5              Manufacturing   Male      Asian  62.0   4/22/2004   \n",
            "7                  Corporate   Male      Asian  62.0   2/19/1999   \n",
            "...                      ...    ...        ...   ...         ...   \n",
            "1251      Specialty Products   Male  Caucasian  42.0   3/15/2021   \n",
            "1253  Research & Development   Male     Latino  44.0   8/23/2014   \n",
            "1254           Manufacturing   Male      Asian  28.0   11/6/2018   \n",
            "1255           Manufacturing   Male      Black  41.0   9/20/2013   \n",
            "1256           Manufacturing   Male      Asian  60.0   9/13/1996   \n",
            "\n",
            "     Annual Salary Bonus %        Country      City  Exit Date  \n",
            "0         $92,368       0%  United States  Columbus        NaN  \n",
            "1         $45,703       0%  United States   Chicago        NaN  \n",
            "2         $83,576       0%          China  Shanghai        NaN  \n",
            "5         $66,227       0%  United States   Phoenix  2/14/2014  \n",
            "7         $69,674       0%          China   Chengdu        NaN  \n",
            "...            ...     ...            ...       ...        ...  \n",
            "1251      $44,265       0%  United States    Austin  6/27/2022  \n",
            "1253     $171,823      27%  United States  Columbus        NaN  \n",
            "1254     $201,013      31%  United States   Phoenix        NaN  \n",
            "1255     $192,944      22%  United States     Miami        NaN  \n",
            "1256      $81,699       0%          China   Beijing        NaN  \n",
            "\n",
            "[581 rows x 13 columns]\n"
          ]
        }
      ]
    },
    {
      "cell_type": "markdown",
      "source": [
        "**searchByColumn(v_ phoneCollection,’Department’,’IT’)**"
      ],
      "metadata": {
        "id": "iLnpKK6wfjgf"
      }
    },
    {
      "cell_type": "code",
      "source": [
        "searchByColumn(v_phoneCollection, 'Department', 'IT')"
      ],
      "metadata": {
        "colab": {
          "base_uri": "https://localhost:8080/"
        },
        "id": "AEGMyb3bWqwO",
        "outputId": "a7533dcf-a30d-4fc9-def5-86c864aafa44"
      },
      "execution_count": 35,
      "outputs": [
        {
          "output_type": "stream",
          "name": "stdout",
          "text": [
            "Search results for 'Department = IT' in 'Hash_1234':\n",
            "     Employee ID        Full Name              Job Title Department  \\\n",
            "2         E02004       Cameron Lo  Network Administrator         IT   \n",
            "3         E02005  Harper Castillo   IT Systems Architect         IT   \n",
            "5         E02007          Ezra Vu  Network Administrator         IT   \n",
            "8         E02010    Gianna Holmes  System Administrator          IT   \n",
            "10        E02012     Jameson Pena        Systems Analyst         IT   \n",
            "...          ...              ...                    ...        ...   \n",
            "1253      E02246     Landon Reyes               Director         IT   \n",
            "1255      E02248  Lucas Alexander               Director         IT   \n",
            "1258      E02251  Genesis Herrera                Manager         IT   \n",
            "1259      E02252   Olivia Vazquez       Network Engineer         IT   \n",
            "1260      E02253       Leilani Ng        Systems Analyst         IT   \n",
            "\n",
            "               Business Unit  Ethnicity   Age   Hire Date Annual Salary  \\\n",
            "2     Research & Development      Asian  34.0   3/24/2019      $83,576    \n",
            "3                  Corporate     Latino  39.0    4/7/2018      $98,062    \n",
            "5              Manufacturing      Asian  62.0   4/22/2004      $66,227    \n",
            "8              Manufacturing  Caucasian  38.0    9/9/2011      $97,630    \n",
            "10             Manufacturing     Latino  49.0  10/12/2003      $40,499    \n",
            "...                      ...        ...   ...         ...           ...   \n",
            "1253  Research & Development     Latino  44.0   8/23/2014     $171,823    \n",
            "1255           Manufacturing      Black  41.0   9/20/2013     $192,944    \n",
            "1258  Research & Development     Latino  34.0   10/3/2015     $126,898    \n",
            "1259      Specialty Products     Latino  53.0   4/13/2020      $93,053    \n",
            "1260               Corporate      Asian  48.0   9/19/2011      $50,513    \n",
            "\n",
            "     Bonus %        Country       City   Exit Date  \n",
            "2         0%          China   Shanghai         NaN  \n",
            "3         0%  United States    Seattle         NaN  \n",
            "5         0%  United States    Phoenix   2/14/2014  \n",
            "8         0%  United States    Seattle         NaN  \n",
            "10        0%  United States      Miami         NaN  \n",
            "...      ...            ...        ...         ...  \n",
            "1253     27%  United States   Columbus         NaN  \n",
            "1255     22%  United States      Miami         NaN  \n",
            "1258     10%         Brazil     Manaus         NaN  \n",
            "1259      0%         Brazil  Sao Paulo         NaN  \n",
            "1260      0%  United States    Seattle  10/30/2019  \n",
            "\n",
            "[347 rows x 13 columns]\n"
          ]
        }
      ]
    },
    {
      "cell_type": "markdown",
      "source": [
        "**getDepFacet(v_ nameCollection)**"
      ],
      "metadata": {
        "id": "izZ8kfp2gF4N"
      }
    },
    {
      "cell_type": "code",
      "source": [
        "getDepFacet(v_nameCollection)"
      ],
      "metadata": {
        "colab": {
          "base_uri": "https://localhost:8080/"
        },
        "id": "UaDUEt5JW4Kz",
        "outputId": "f7809cf5-726f-4538-ed79-427397a29f75"
      },
      "execution_count": 41,
      "outputs": [
        {
          "output_type": "stream",
          "name": "stdout",
          "text": [
            "'Department' column not found in collection 'Hash_JohnDoe'.\n"
          ]
        }
      ]
    },
    {
      "cell_type": "markdown",
      "source": [
        "**getDepFacet(v_ phoneCollection)**"
      ],
      "metadata": {
        "id": "z9n7VNRogKYs"
      }
    },
    {
      "cell_type": "code",
      "source": [
        "getDepFacet(v_phoneCollection)"
      ],
      "metadata": {
        "colab": {
          "base_uri": "https://localhost:8080/"
        },
        "id": "zVUSAp0sW9GD",
        "outputId": "2c404486-7cf8-4e26-e1ae-6be79533d94e"
      },
      "execution_count": 37,
      "outputs": [
        {
          "output_type": "stream",
          "name": "stdout",
          "text": [
            "Department facet for 'Hash_1234':\n",
            "Department\n",
            "Accounting         132\n",
            "Engineering        159\n",
            "Finance            129\n",
            "Human Resources    124\n",
            "IT                 347\n",
            "Marketing          136\n",
            "Sales              188\n",
            "dtype: int64\n"
          ]
        }
      ]
    }
  ],
  "metadata": {
    "colab": {
      "name": "Welcome To Colab",
      "provenance": []
    },
    "kernelspec": {
      "display_name": "Python 3",
      "name": "python3"
    }
  },
  "nbformat": 4,
  "nbformat_minor": 0
}